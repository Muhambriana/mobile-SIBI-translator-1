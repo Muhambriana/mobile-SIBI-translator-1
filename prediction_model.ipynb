{
 "cells": [
  {
   "cell_type": "markdown",
   "id": "turkish-nylon",
   "metadata": {},
   "source": [
    "# Define the Function for Classification"
   ]
  },
  {
   "cell_type": "code",
   "execution_count": 2,
   "id": "musical-fleet",
   "metadata": {},
   "outputs": [],
   "source": [
    "import os\n",
    "import cv2\n",
    "import mediapipe as mp\n",
    "import tensorflow as tf\n",
    "import numpy as np\n",
    "import matplotlib.pyplot as plt\n",
    "import matplotlib.image as mpimg\n",
    "import time"
   ]
  },
  {
   "cell_type": "code",
   "execution_count": 3,
   "id": "nuclear-candle",
   "metadata": {},
   "outputs": [],
   "source": [
    "gpu_devices = tf.config.experimental.list_physical_devices(\"GPU\")\n",
    "for device in gpu_devices:\n",
    "    tf.config.experimental.set_memory_growth(device, True)"
   ]
  },
  {
   "cell_type": "code",
   "execution_count": 11,
   "id": "danish-speaker",
   "metadata": {},
   "outputs": [],
   "source": [
    "def extract_feature(input_image, is_a_frame):\n",
    "    if is_a_frame == False:\n",
    "        mp_hands = mp.solutions.hands\n",
    "        mp_drawing = mp.solutions.drawing_utils \n",
    "        image = cv2.imread(input_image)\n",
    "        with mp_hands.Hands(static_image_mode=True, max_num_hands=2, min_detection_confidence=0.7) as hands:\n",
    "            results = hands.process(cv2.flip(cv2.cvtColor(image, cv2.COLOR_BGR2RGB), 1))\n",
    "            image_hight, image_width, _ = image.shape\n",
    "            # Print handedness (left v.s. right hand).\n",
    "            print(f'Handedness of {input_image}:')\n",
    "            print(results.multi_handedness)\n",
    "\n",
    "            # Draw hand landmarks of each hand.\n",
    "            print(f'Hand landmarks of {input_image}:')\n",
    "            if not results.multi_hand_landmarks:\n",
    "                thumb_fingerX = 0\n",
    "                thumb_fingerY = 0\n",
    "                index_fingerX = 0\n",
    "                index_fingerY = 0\n",
    "                middle_fingerX = 0\n",
    "                middle_fingerY = 0\n",
    "                ring_fingerX = 0\n",
    "                ring_fingerY = 0\n",
    "                pinky_fingerX = 0\n",
    "                pinky_fingerY = 0\n",
    "                output_image = 0\n",
    "                return thumb_fingerX, thumb_fingerY, index_fingerX, index_fingerY, middle_fingerX, middle_fingerY, ring_fingerX, ring_fingerY, pinky_fingerX, pinky_fingerY, output_image\n",
    "            \n",
    "            annotated_image = cv2.flip(image.copy(), 1)\n",
    "            for hand_landmarks in results.multi_hand_landmarks:\n",
    "                # Thumb Finger or Jari Jempol\n",
    "                thumb_fingerX = hand_landmarks.landmark[mp_hands.HandLandmark.THUMB_TIP].x * image_width\n",
    "                thumb_fingerY = hand_landmarks.landmark[mp_hands.HandLandmark.THUMB_TIP].y * image_width\n",
    "                # Index Finger or Jari Telunjuk\n",
    "                index_fingerX = hand_landmarks.landmark[mp_hands.HandLandmark.INDEX_FINGER_TIP].x * image_width\n",
    "                index_fingerY = hand_landmarks.landmark[mp_hands.HandLandmark.INDEX_FINGER_TIP].y * image_hight\n",
    "                # Middle Finger or Jari Tengah\n",
    "                middle_fingerX = hand_landmarks.landmark[mp_hands.HandLandmark.MIDDLE_FINGER_TIP].x * image_width\n",
    "                middle_fingerY = hand_landmarks.landmark[mp_hands.HandLandmark.MIDDLE_FINGER_TIP].y * image_width\n",
    "                # Ring Finger or Jari Manis\n",
    "                ring_fingerX = hand_landmarks.landmark[mp_hands.HandLandmark.RING_FINGER_TIP].x * image_width\n",
    "                ring_fingerY = hand_landmarks.landmark[mp_hands.HandLandmark.RING_FINGER_TIP].y * image_width\n",
    "                # Pinky Finger or Jari Kelingking\n",
    "                pinky_fingerX = hand_landmarks.landmark[mp_hands.HandLandmark.PINKY_TIP].x * image_width\n",
    "                pinky_fingerY = hand_landmarks.landmark[mp_hands.HandLandmark.PINKY_TIP].y * image_width\n",
    "                # Print index finger tip coordinates.\n",
    "                #print(\n",
    "                    #f'Index finger tip coordinate: (',\n",
    "                    #f'{index_fingerX}, '\n",
    "                     #f'{index_fingerY})')\n",
    "                mp_drawing.draw_landmarks(annotated_image, hand_landmarks, mp_hands.HAND_CONNECTIONS)\n",
    "            return thumb_fingerX, thumb_fingerY, index_fingerX, index_fingerY, middle_fingerX, middle_fingerY, ring_fingerX, ring_fingerY, pinky_fingerX, pinky_fingerY, annotated_image\n",
    "    else:\n",
    "        mp_hands = mp.solutions.hands\n",
    "        hands = mp_hands.Hands()\n",
    "        mp_drawing = mp.solutions.drawing_utils \n",
    "        image = input_image\n",
    "        results = hands.process(cv2.flip(cv2.cvtColor(image, cv2.COLOR_BGR2RGB), 1))\n",
    "        image_hight, image_width, _ = image.shape\n",
    "        # Print handedness (left v.s. right hand).\n",
    "        #print(f'Handedness of {input_image}:')\n",
    "        #print(results.multi_handedness)\n",
    "\n",
    "        # Draw hand landmarks of each hand.\n",
    "        #print(f'Hand landmarks of {input_image}:')\n",
    "        annotated_image = cv2.flip(image.copy(), 1)\n",
    "        if results.multi_hand_landmarks:\n",
    "            for hand_landmarks in results.multi_hand_landmarks:\n",
    "                # Thumb Finger or Jari Jempol\n",
    "                thumb_fingerX = hand_landmarks.landmark[mp_hands.HandLandmark.THUMB_TIP].x * image_width\n",
    "                thumb_fingerY = hand_landmarks.landmark[mp_hands.HandLandmark.THUMB_TIP].y * image_width\n",
    "                # Index Finger or Jari Telunjuk\n",
    "                index_fingerX = hand_landmarks.landmark[mp_hands.HandLandmark.INDEX_FINGER_TIP].x * image_width\n",
    "                index_fingerY = hand_landmarks.landmark[mp_hands.HandLandmark.INDEX_FINGER_TIP].y * image_hight\n",
    "                # Middle Finger or Jari Tengah\n",
    "                middle_fingerX = hand_landmarks.landmark[mp_hands.HandLandmark.MIDDLE_FINGER_TIP].x * image_width\n",
    "                middle_fingerY = hand_landmarks.landmark[mp_hands.HandLandmark.MIDDLE_FINGER_TIP].y * image_width\n",
    "                # Ring Finger or Jari Manis\n",
    "                ring_fingerX = hand_landmarks.landmark[mp_hands.HandLandmark.RING_FINGER_TIP].x * image_width\n",
    "                ring_fingerY = hand_landmarks.landmark[mp_hands.HandLandmark.RING_FINGER_TIP].y * image_width\n",
    "                # Pinky Finger or Jari Kelingking\n",
    "                pinky_fingerX = hand_landmarks.landmark[mp_hands.HandLandmark.PINKY_TIP].x * image_width\n",
    "                pinky_fingerY = hand_landmarks.landmark[mp_hands.HandLandmark.PINKY_TIP].y * image_width\n",
    "                # Print index finger tip coordinates.\n",
    "                #print(\n",
    "                    #f'Index finger tip coordinate: (',\n",
    "                    #f'{index_fingerX}, '\n",
    "                    #f'{index_fingerY})')\n",
    "                mp_drawing.draw_landmarks(annotated_image, hand_landmarks, mp_hands.HAND_CONNECTIONS)\n",
    "            return thumb_fingerX, thumb_fingerY, index_fingerX, index_fingerY, middle_fingerX, middle_fingerY, ring_fingerX, ring_fingerY, pinky_fingerX, pinky_fingerY, annotated_image\n",
    "        else:\n",
    "            thumb_fingerX = 0\n",
    "            thumb_fingerY = 0\n",
    "            index_fingerX = 0\n",
    "            index_fingerY = 0\n",
    "            middle_fingerX = 0\n",
    "            middle_fingerY = 0\n",
    "            ring_fingerX = 0\n",
    "            ring_fingerY = 0\n",
    "            pinky_fingerX = 0\n",
    "            pinky_fingerY = 0\n",
    "            return thumb_fingerX, thumb_fingerY, index_fingerX, index_fingerY, middle_fingerX, middle_fingerY, ring_fingerX, ring_fingerY, pinky_fingerX, pinky_fingerY, annotated_image"
   ]
  },
  {
   "cell_type": "code",
   "execution_count": 5,
   "id": "micro-regard",
   "metadata": {},
   "outputs": [
    {
     "name": "stdout",
     "output_type": "stream",
     "text": [
      "Model: \"sequential\"\n",
      "_________________________________________________________________\n",
      "Layer (type)                 Output Shape              Param #   \n",
      "=================================================================\n",
      "conv1d (Conv1D)              (None, 8, 64)             256       \n",
      "_________________________________________________________________\n",
      "max_pooling1d (MaxPooling1D) (None, 4, 64)             0         \n",
      "_________________________________________________________________\n",
      "conv1d_1 (Conv1D)            (None, 2, 128)            24704     \n",
      "_________________________________________________________________\n",
      "max_pooling1d_1 (MaxPooling1 (None, 1, 128)            0         \n",
      "_________________________________________________________________\n",
      "flatten (Flatten)            (None, 128)               0         \n",
      "_________________________________________________________________\n",
      "dense (Dense)                (None, 512)               66048     \n",
      "_________________________________________________________________\n",
      "dense_1 (Dense)              (None, 26)                13338     \n",
      "=================================================================\n",
      "Total params: 104,346\n",
      "Trainable params: 104,346\n",
      "Non-trainable params: 0\n",
      "_________________________________________________________________\n"
     ]
    }
   ],
   "source": [
    "#Define Classes in Dictionary and Load Created Model Previously\n",
    "classes = {\n",
    "    'A': 0,\n",
    "    'B': 1,\n",
    "    'C': 2,\n",
    "    'D': 3,\n",
    "    'E': 4,\n",
    "    'F': 5,\n",
    "    'G': 6,\n",
    "    'H': 7,\n",
    "    'I': 8,\n",
    "    'J': 9,\n",
    "    'K': 10,\n",
    "    'L': 11,\n",
    "    'M': 12,\n",
    "    'N': 13,\n",
    "    'O': 14,\n",
    "    'P': 15,\n",
    "    'Q': 16,\n",
    "    'R': 17,\n",
    "    'S': 18,\n",
    "    'T': 19,\n",
    "    'U': 20,\n",
    "    'V': 21,\n",
    "    'W': 22,\n",
    "    'X': 23,\n",
    "    'Y': 24,\n",
    "    'Z': 25\n",
    "}\n",
    "\n",
    "model = tf.keras.models.load_model('model_SIBI.h5')\n",
    "model.summary()"
   ]
  },
  {
   "cell_type": "markdown",
   "id": "corporate-ministry",
   "metadata": {},
   "source": [
    "# Using Static Image for Classification"
   ]
  },
  {
   "cell_type": "code",
   "execution_count": 6,
   "id": "japanese-wallpaper",
   "metadata": {},
   "outputs": [
    {
     "name": "stdout",
     "output_type": "stream",
     "text": [
      "Handedness of B (4).jpg:\n",
      "[classification {\n",
      "  index: 1\n",
      "  score: 0.99930185\n",
      "  label: \"Right\"\n",
      "}\n",
      "]\n",
      "Hand landmarks of B (4).jpg:\n",
      "998.1327056884766 1113.724708557129 820.1308846473694 453.91762256622314 969.3848490715027 359.20143127441406 1087.913155555725 431.922972202301 1190.8698081970215 631.8845748901367\n"
     ]
    },
    {
     "data": {
      "image/png": "[encoded data removed]",
      "text/plain": [
       "<Figure size 432x288 with 1 Axes>"
      ]
     },
     "metadata": {
      "needs_background": "light"
     },
     "output_type": "display_data"
    }
   ],
   "source": [
    "#Load Image and do Feature Extraction\n",
    "path_to_image = \"B (4).jpg\"\n",
    "is_a_frame = False\n",
    "thumb_fingerX, thumb_fingerY, index_fingerX, index_fingerY, middle_fingerX, middle_fingerY, ring_fingerX, ring_fingerY, pinky_fingerX, pinky_fingerY, output_IMG = extract_feature(path_to_image, is_a_frame)\n",
    "print(thumb_fingerX, thumb_fingerY, index_fingerX, index_fingerY, middle_fingerX, middle_fingerY, ring_fingerX, ring_fingerY, pinky_fingerX, pinky_fingerY)\n",
    "plt.axis(\"on\")\n",
    "plt.imshow(cv2.cvtColor(output_IMG, cv2.COLOR_BGR2RGB))\n",
    "plt.show()"
   ]
  },
  {
   "cell_type": "code",
   "execution_count": 7,
   "id": "dependent-toolbox",
   "metadata": {},
   "outputs": [
    {
     "data": {
      "text/plain": [
       "(1, 10, 1)"
      ]
     },
     "execution_count": 7,
     "metadata": {},
     "output_type": "execute_result"
    }
   ],
   "source": [
    "#Shape the image features into an 1x3 array.\n",
    "input_IMG = [[[thumb_fingerX], [thumb_fingerY],\n",
    "              [index_fingerX], [index_fingerY],\n",
    "              [middle_fingerX], [middle_fingerY], \n",
    "              [ring_fingerX], [ring_fingerY], \n",
    "              [pinky_fingerX], [pinky_fingerY]]]\n",
    "IMG_array = np.array(input_IMG)\n",
    "IMG_array.shape"
   ]
  },
  {
   "cell_type": "code",
   "execution_count": 8,
   "id": "attractive-spank",
   "metadata": {},
   "outputs": [
    {
     "name": "stdout",
     "output_type": "stream",
     "text": [
      "[[0.0000000e+00 1.0000000e+00 6.9036043e-25 5.1000343e-27 2.5549839e-14\n",
      "  7.6272379e-17 0.0000000e+00 2.7251045e-29 0.0000000e+00 6.5932340e-29\n",
      "  3.1088279e-32 0.0000000e+00 2.8341416e-25 4.3843795e-34 7.9573479e-13\n",
      "  1.6193982e-32 7.8873367e-29 1.0534228e-21 2.5421149e-27 0.0000000e+00\n",
      "  4.1179945e-13 4.4791798e-21 8.5069859e-16 9.5603277e-22 0.0000000e+00\n",
      "  5.4142688e-29]]\n",
      "WARNING:tensorflow:From <ipython-input-8-50c588ad4262>:3: Sequential.predict_classes (from tensorflow.python.keras.engine.sequential) is deprecated and will be removed after 2021-01-01.\n",
      "Instructions for updating:\n",
      "Please use instead:* `np.argmax(model.predict(x), axis=-1)`,   if your model does multi-class classification   (e.g. if it uses a `softmax` last-layer activation).* `(model.predict(x) > 0.5).astype(\"int32\")`,   if your model does binary classification   (e.g. if it uses a `sigmoid` last-layer activation).\n",
      "[1]\n"
     ]
    }
   ],
   "source": [
    "#Print the Prediction\n",
    "print(model.predict(IMG_array))\n",
    "print(model.predict_classes(IMG_array))"
   ]
  },
  {
   "cell_type": "code",
   "execution_count": 9,
   "id": "twelve-syracuse",
   "metadata": {},
   "outputs": [
    {
     "name": "stdout",
     "output_type": "stream",
     "text": [
      "B\n"
     ]
    }
   ],
   "source": [
    "#Print prediction using defined Classes\n",
    "predictions = model.predict_classes(IMG_array)\n",
    "for alphabets, values in classes.items():\n",
    "    if values == predictions[0] :\n",
    "        print(alphabets)"
   ]
  },
  {
   "cell_type": "markdown",
   "id": "crude-toolbox",
   "metadata": {},
   "source": [
    "# Using Dynamic Images aka Video Webcam for Classification"
   ]
  },
  {
   "cell_type": "markdown",
   "id": "legal-johnston",
   "metadata": {},
   "source": [
    "## Using Function, Slow"
   ]
  },
  {
   "cell_type": "code",
   "execution_count": 25,
   "id": "retained-advocacy",
   "metadata": {},
   "outputs": [],
   "source": [
    "cap = cv2.VideoCapture(0)\n",
    "is_a_frame = True\n",
    "\n",
    "pTime = 0\n",
    "cTime = 0\n",
    "\n",
    "while True:\n",
    "    success, img = cap.read()\n",
    "    thumb_fingerX, thumb_fingerY, index_fingerX, index_fingerY, middle_fingerX, middle_fingerY, ring_fingerX, ring_fingerY, pinky_fingerX, pinky_fingerY, output_IMG = extract_feature(img, is_a_frame)\n",
    "    \n",
    "    \n",
    "    cTime = time.time()\n",
    "    fps = 1 / (cTime - pTime)\n",
    "    pTime = cTime\n",
    "    \n",
    "    cv2.putText(output_IMG, str(int(fps)), (10, 70), cv2.FONT_HERSHEY_PLAIN, 3,\n",
    "                (255, 0, 255), 3)\n",
    "    \n",
    "    input_IMG = [[[thumb_fingerX], [thumb_fingerY],\n",
    "              [index_fingerX], [index_fingerY],\n",
    "              [middle_fingerX], [middle_fingerY], \n",
    "              [ring_fingerX], [ring_fingerY], \n",
    "              [pinky_fingerX], [pinky_fingerY]]]\n",
    "    IMG_array = np.array(input_IMG)\n",
    "    IMG_array.shape\n",
    "    predictions = model.predict_classes(IMG_array)\n",
    "    for alphabets, values in classes.items():\n",
    "        if values == predictions[0] :\n",
    "            text_prediction = alphabets\n",
    "    cv2.putText(output_IMG, str(text_prediction), (70, 70), cv2.FONT_HERSHEY_PLAIN, 3,\n",
    "                (255, 0, 255), 3)\n",
    "    \n",
    "    cv2.imshow(\"Image\", output_IMG)\n",
    "    if cv2.waitKey(25) & 0xFF == ord('q'):\n",
    "        cv2.destroyAllWindows()\n",
    "        break\n",
    "\n",
    "cap.release()\n",
    "cv2.destroyAllWindows()"
   ]
  },
  {
   "cell_type": "markdown",
   "id": "pregnant-director",
   "metadata": {},
   "source": [
    "## Alternative, Faster"
   ]
  },
  {
   "cell_type": "code",
   "execution_count": 28,
   "id": "optional-parking",
   "metadata": {},
   "outputs": [],
   "source": [
    "import cv2\n",
    "import mediapipe as mp\n",
    "import time\n",
    " \n",
    "cap = cv2.VideoCapture(0)\n",
    " \n",
    "mp_hands = mp.solutions.hands\n",
    "hands = mp_hands.Hands()\n",
    "mp_drawing = mp.solutions.drawing_utils\n",
    " \n",
    "pTime = 0\n",
    "cTime = 0\n",
    " \n",
    "while True:\n",
    "    success, img = cap.read()\n",
    "    results = hands.process(cv2.flip(cv2.cvtColor(img, cv2.COLOR_BGR2RGB), 1))\n",
    "    image_hight, image_width, _ = img.shape\n",
    "    # print(results.multi_hand_landmarks)\n",
    "    img = cv2.flip(img.copy(), 1)\n",
    "    if results.multi_hand_landmarks:\n",
    "        for hand_landmarks in results.multi_hand_landmarks:\n",
    "            # Thumb Finger or Jari Jempol\n",
    "            thumb_fingerX = hand_landmarks.landmark[mp_hands.HandLandmark.THUMB_TIP].x * image_width\n",
    "            thumb_fingerY = hand_landmarks.landmark[mp_hands.HandLandmark.THUMB_TIP].y * image_width\n",
    "            # Index Finger or Jari Telunjuk\n",
    "            index_fingerX = hand_landmarks.landmark[mp_hands.HandLandmark.INDEX_FINGER_TIP].x * image_width\n",
    "            index_fingerY = hand_landmarks.landmark[mp_hands.HandLandmark.INDEX_FINGER_TIP].y * image_hight\n",
    "            # Middle Finger or Jari Tengah\n",
    "            middle_fingerX = hand_landmarks.landmark[mp_hands.HandLandmark.MIDDLE_FINGER_TIP].x * image_width\n",
    "            middle_fingerY = hand_landmarks.landmark[mp_hands.HandLandmark.MIDDLE_FINGER_TIP].y * image_width\n",
    "            # Ring Finger or Jari Manis\n",
    "            ring_fingerX = hand_landmarks.landmark[mp_hands.HandLandmark.RING_FINGER_TIP].x * image_width\n",
    "            ring_fingerY = hand_landmarks.landmark[mp_hands.HandLandmark.RING_FINGER_TIP].y * image_width\n",
    "            # Pinky Finger or Jari Kelingking\n",
    "            pinky_fingerX = hand_landmarks.landmark[mp_hands.HandLandmark.PINKY_TIP].x * image_width\n",
    "            pinky_fingerY = hand_landmarks.landmark[mp_hands.HandLandmark.PINKY_TIP].y * image_width\n",
    "            # Print index finger tip coordinates.\n",
    "            #print(\n",
    "                #f'Index finger tip coordinate: (',\n",
    "                #f'{index_fingerX}, '\n",
    "                #f'{index_fingerY})')\n",
    "            mp_drawing.draw_landmarks(img, hand_landmarks, mp_hands.HAND_CONNECTIONS)\n",
    " \n",
    "    cTime = time.time()\n",
    "    fps = 1 / (cTime - pTime)\n",
    "    pTime = cTime\n",
    "    cv2.putText(img, str(int(fps)), (10, 70), cv2.FONT_HERSHEY_PLAIN, 3,\n",
    "                (255, 0, 255), 3)\n",
    "    \n",
    "    input_IMG = [[[thumb_fingerX], [thumb_fingerY],\n",
    "              [index_fingerX], [index_fingerY],\n",
    "              [middle_fingerX], [middle_fingerY], \n",
    "              [ring_fingerX], [ring_fingerY], \n",
    "              [pinky_fingerX], [pinky_fingerY]]]\n",
    "    IMG_array = np.array(input_IMG)\n",
    "    IMG_array.shape\n",
    "    predictions = model.predict_classes(IMG_array)\n",
    "    for alphabets, values in classes.items():\n",
    "        if values == predictions[0] :\n",
    "            text_prediction = alphabets\n",
    "    cv2.putText(img, str(text_prediction), (90, 70), cv2.FONT_HERSHEY_PLAIN, 3,\n",
    "                (255, 0, 255), 3)\n",
    "    cv2.imshow(\"Image\", img)\n",
    "    if cv2.waitKey(25) & 0xFF == ord('q'):\n",
    "        cv2.destroyAllWindows()\n",
    "        break\n",
    "\n",
    "cap.release()\n",
    "cv2.destroyAllWindows()"
   ]
  },
  {
   "cell_type": "code",
   "execution_count": null,
   "id": "ideal-sheep",
   "metadata": {},
   "outputs": [],
   "source": []
  }
 ],
 "metadata": {
  "kernelspec": {
   "display_name": "Python 3",
   "language": "python",
   "name": "python3"
  },
  "language_info": {
   "codemirror_mode": {
    "name": "ipython",
    "version": 3
   },
   "file_extension": ".py",
   "mimetype": "text/x-python",
   "name": "python",
   "nbconvert_exporter": "python",
   "pygments_lexer": "ipython3",
   "version": "3.8.6"
  }
 },
 "nbformat": 4,
 "nbformat_minor": 5
}
