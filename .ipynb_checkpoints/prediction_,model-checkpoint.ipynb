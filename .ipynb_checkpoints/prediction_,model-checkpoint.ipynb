{
 "cells": [
  {
   "cell_type": "code",
   "execution_count": 1,
   "id": "coupled-library",
   "metadata": {},
   "outputs": [],
   "source": [
    "import os\n",
    "import cv2\n",
    "import mediapipe as mp\n",
    "import tensorflow as tf\n",
    "import numpy as np"
   ]
  },
  {
   "cell_type": "code",
   "execution_count": 2,
   "id": "quiet-scale",
   "metadata": {},
   "outputs": [],
   "source": [
    "gpu_devices = tf.config.experimental.list_physical_devices(\"GPU\")\n",
    "for device in gpu_devices:\n",
    "    tf.config.experimental.set_memory_growth(device, True)"
   ]
  },
  {
   "cell_type": "code",
   "execution_count": 3,
   "id": "later-election",
   "metadata": {},
   "outputs": [],
   "source": [
    "#Function to Extract Feature from images or Frame\n",
    "def extract_feature(input_image):\n",
    "    mp_hands = mp.solutions.hands\n",
    "    mp_drawing = mp.solutions.drawing_utils \n",
    "    image = cv2.imread(input_image)\n",
    "    with mp_hands.Hands(static_image_mode=True, max_num_hands=2, min_detection_confidence=0.7) as hands:\n",
    "        while True:\n",
    "            results = hands.process(cv2.flip(cv2.cvtColor(image, cv2.COLOR_BGR2RGB), 1))\n",
    "            image_hight, image_width, _ = image.shape\n",
    "            # Print handedness (left v.s. right hand).\n",
    "            print(f'Handedness of {input_image}:')\n",
    "            print(results.multi_handedness)\n",
    "\n",
    "            # Draw hand landmarks of each hand.\n",
    "            print(f'Hand landmarks of {input_image}:')\n",
    "            if not results.multi_hand_landmarks:\n",
    "                thumb_fingerX = 0\n",
    "                thumb_fingerY = 0\n",
    "                index_fingerX = 0\n",
    "                index_fingerY = 0\n",
    "                middle_fingerX = 0\n",
    "                middle_fingerY = 0\n",
    "                ring_fingerX = 0\n",
    "                ring_fingerY = 0\n",
    "                pinky_fingerX = 0\n",
    "                pinky_fingerY = 0\n",
    "                return thumb_fingerX, thumb_fingerY, index_fingerX, index_fingerY, middle_fingerX, middle_fingerY, ring_fingerX, ring_fingerY, pinky_fingerX, pinky_fingerY\n",
    "                break\n",
    "            \n",
    "            annotated_image = cv2.flip(image.copy(), 1)\n",
    "            for hand_landmarks in results.multi_hand_landmarks:\n",
    "                # Thumb Finger or Jari Jempol\n",
    "                thumb_fingerX = hand_landmarks.landmark[mp_hands.HandLandmark.THUMB_TIP].x * image_width\n",
    "                thumb_fingerY = hand_landmarks.landmark[mp_hands.HandLandmark.THUMB_TIP].y * image_width\n",
    "                # Index Finger or Jari Telunjuk\n",
    "                index_fingerX = hand_landmarks.landmark[mp_hands.HandLandmark.INDEX_FINGER_TIP].x * image_width\n",
    "                index_fingerY = hand_landmarks.landmark[mp_hands.HandLandmark.INDEX_FINGER_TIP].y * image_hight\n",
    "                # Middle Finger or Jari Tengah\n",
    "                middle_fingerX = hand_landmarks.landmark[mp_hands.HandLandmark.MIDDLE_FINGER_TIP].x * image_width\n",
    "                middle_fingerY = hand_landmarks.landmark[mp_hands.HandLandmark.MIDDLE_FINGER_TIP].y * image_width\n",
    "                # Ring Finger or Jari Manis\n",
    "                ring_fingerX = hand_landmarks.landmark[mp_hands.HandLandmark.RING_FINGER_TIP].x * image_width\n",
    "                ring_fingerY = hand_landmarks.landmark[mp_hands.HandLandmark.RING_FINGER_TIP].y * image_width\n",
    "                # Pinky Finger or Jari Kelingking\n",
    "                pinky_fingerX = hand_landmarks.landmark[mp_hands.HandLandmark.PINKY_TIP].x * image_width\n",
    "                pinky_fingerY = hand_landmarks.landmark[mp_hands.HandLandmark.PINKY_TIP].y * image_width\n",
    "                # Print index finger tip coordinates.\n",
    "                #print(\n",
    "                    #f'Index finger tip coordinate: (',\n",
    "                    #f'{index_fingerX}, '\n",
    "                    #f'{index_fingerY})')\n",
    "                mp_drawing.draw_landmarks(annotated_image, hand_landmarks, mp_hands.HAND_CONNECTIONS)\n",
    "            return thumb_fingerX, thumb_fingerY, index_fingerX, index_fingerY, middle_fingerX, middle_fingerY, ring_fingerX, ring_fingerY, pinky_fingerX, pinky_fingerY\n",
    "            break"
   ]
  },
  {
   "cell_type": "code",
   "execution_count": 9,
   "id": "attempted-african",
   "metadata": {},
   "outputs": [
    {
     "name": "stdout",
     "output_type": "stream",
     "text": [
      "Model: \"sequential\"\n",
      "_________________________________________________________________\n",
      "Layer (type)                 Output Shape              Param #   \n",
      "=================================================================\n",
      "conv1d (Conv1D)              (None, 8, 64)             256       \n",
      "_________________________________________________________________\n",
      "max_pooling1d (MaxPooling1D) (None, 4, 64)             0         \n",
      "_________________________________________________________________\n",
      "conv1d_1 (Conv1D)            (None, 2, 128)            24704     \n",
      "_________________________________________________________________\n",
      "max_pooling1d_1 (MaxPooling1 (None, 1, 128)            0         \n",
      "_________________________________________________________________\n",
      "flatten (Flatten)            (None, 128)               0         \n",
      "_________________________________________________________________\n",
      "dense (Dense)                (None, 512)               66048     \n",
      "_________________________________________________________________\n",
      "dense_1 (Dense)              (None, 26)                13338     \n",
      "=================================================================\n",
      "Total params: 104,346\n",
      "Trainable params: 104,346\n",
      "Non-trainable params: 0\n",
      "_________________________________________________________________\n"
     ]
    }
   ],
   "source": [
    "#Define Classes in Dictionary and Load Created Model Previously\n",
    "classes = {\n",
    "    'A': 0,\n",
    "    'B': 1,\n",
    "    'C': 2,\n",
    "    'D': 3,\n",
    "    'E': 4,\n",
    "    'F': 5,\n",
    "    'G': 6,\n",
    "    'H': 7,\n",
    "    'I': 8,\n",
    "    'J': 9,\n",
    "    'K': 10,\n",
    "    'L': 11,\n",
    "    'M': 12,\n",
    "    'N': 13,\n",
    "    'O': 14,\n",
    "    'P': 15,\n",
    "    'Q': 16,\n",
    "    'R': 17,\n",
    "    'S': 18,\n",
    "    'T': 19,\n",
    "    'U': 20,\n",
    "    'V': 21,\n",
    "    'W': 22,\n",
    "    'X': 23,\n",
    "    'Y': 24,\n",
    "    'Z': 25\n",
    "}\n",
    "\n",
    "model = tf.keras.models.load_model('model_SIBI.h5')\n",
    "model.summary()"
   ]
  },
  {
   "cell_type": "code",
   "execution_count": 10,
   "id": "fundamental-caution",
   "metadata": {},
   "outputs": [
    {
     "name": "stdout",
     "output_type": "stream",
     "text": [
      "Handedness of B (4).jpg:\n",
      "[classification {\n",
      "  index: 1\n",
      "  score: 0.99930185\n",
      "  label: \"Right\"\n",
      "}\n",
      "]\n",
      "Hand landmarks of B (4).jpg:\n",
      "998.1327056884766 1113.724708557129 820.1308846473694 453.91762256622314 969.3848490715027 359.20143127441406 1087.913155555725 431.922972202301 1190.8698081970215 631.8845748901367\n"
     ]
    }
   ],
   "source": [
    "#Load Image and do Feature Extraction\n",
    "path_to_image = \"B (4).jpg\"\n",
    "thumb_fingerX, thumb_fingerY, index_fingerX, index_fingerY, middle_fingerX, middle_fingerY, ring_fingerX, ring_fingerY, pinky_fingerX, pinky_fingerY = extract_feature(path_to_image)\n",
    "print(thumb_fingerX, thumb_fingerY, index_fingerX, index_fingerY, middle_fingerX, middle_fingerY, ring_fingerX, ring_fingerY, pinky_fingerX, pinky_fingerY)"
   ]
  },
  {
   "cell_type": "code",
   "execution_count": 11,
   "id": "appointed-beach",
   "metadata": {},
   "outputs": [
    {
     "data": {
      "text/plain": [
       "(1, 10, 1)"
      ]
     },
     "execution_count": 11,
     "metadata": {},
     "output_type": "execute_result"
    }
   ],
   "source": [
    "#Shape the image features into an array.\n",
    "input_IMG = [[[thumb_fingerX], [thumb_fingerY],\n",
    "              [index_fingerX], [index_fingerY],\n",
    "              [middle_fingerX], [middle_fingerY], \n",
    "              [ring_fingerX], [ring_fingerY], \n",
    "              [pinky_fingerX], [pinky_fingerY]]]\n",
    "IMG_array = np.array(input_IMG)\n",
    "IMG_array.shape"
   ]
  },
  {
   "cell_type": "code",
   "execution_count": 12,
   "id": "settled-combination",
   "metadata": {},
   "outputs": [
    {
     "name": "stdout",
     "output_type": "stream",
     "text": [
      "[[0.0000000e+00 1.0000000e+00 6.9036043e-25 5.1000343e-27 2.5549839e-14\n",
      "  7.6272379e-17 0.0000000e+00 2.7251045e-29 0.0000000e+00 6.5932340e-29\n",
      "  3.1088279e-32 0.0000000e+00 2.8341416e-25 4.3843795e-34 7.9573479e-13\n",
      "  1.6193982e-32 7.8873367e-29 1.0534228e-21 2.5421149e-27 0.0000000e+00\n",
      "  4.1179945e-13 4.4791798e-21 8.5069859e-16 9.5603277e-22 0.0000000e+00\n",
      "  5.4142688e-29]]\n",
      "[1]\n"
     ]
    }
   ],
   "source": [
    "#Print the Prediction\n",
    "print(model.predict(IMG_array))\n",
    "print(model.predict_classes(IMG_array))"
   ]
  },
  {
   "cell_type": "code",
   "execution_count": 13,
   "id": "multiple-profile",
   "metadata": {},
   "outputs": [
    {
     "name": "stdout",
     "output_type": "stream",
     "text": [
      "B\n"
     ]
    }
   ],
   "source": [
    "#Print prediction using defined Classes\n",
    "predictions = model.predict_classes(IMG_array)\n",
    "for alphabets, values in classes.items():\n",
    "    if values == predictions[0] :\n",
    "        print(alphabets)"
   ]
  },
  {
   "cell_type": "code",
   "execution_count": null,
   "id": "unauthorized-procedure",
   "metadata": {},
   "outputs": [],
   "source": []
  }
 ],
 "metadata": {
  "kernelspec": {
   "display_name": "Python 3",
   "language": "python",
   "name": "python3"
  },
  "language_info": {
   "codemirror_mode": {
    "name": "ipython",
    "version": 3
   },
   "file_extension": ".py",
   "mimetype": "text/x-python",
   "name": "python",
   "nbconvert_exporter": "python",
   "pygments_lexer": "ipython3",
   "version": "3.8.6"
  }
 },
 "nbformat": 4,
 "nbformat_minor": 5
}
